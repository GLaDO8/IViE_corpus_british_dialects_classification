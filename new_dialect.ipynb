{
 "cells": [
  {
   "cell_type": "code",
   "execution_count": 26,
   "metadata": {},
   "outputs": [],
   "source": [
    "import IPython.display as ipd\n",
    "import scipy.io.wavfile as wav\n",
    "from scipy.fftpack import dct\n",
    "from zipfile import ZipFile\n",
    "import numpy as np\n",
    "import pandas as pd"
   ]
  },
  {
   "cell_type": "code",
   "execution_count": 38,
   "metadata": {},
   "outputs": [],
   "source": [
    "#data import\n",
    "def audio_import(nclass, naudio):\n",
    "    rate, data = wav.read('Read_Up/IDR' + str(nclass) + '/' + str(naudio) + '.wav')\n",
    "    filename = 'Data/IDR' + str(nclass) + '/' + str(naudio) + '.csv'\n",
    "    return rate, data, filename"
   ]
  },
  {
   "cell_type": "code",
   "execution_count": 28,
   "metadata": {},
   "outputs": [],
   "source": [
    "#parameters\n",
    "framelength, framestride, nfft, num_fbanks, n_cep_coeff, N = 0.025, 0.015, 512, 40, 12, 2"
   ]
  },
  {
   "cell_type": "code",
   "execution_count": 29,
   "metadata": {},
   "outputs": [],
   "source": [
    "#generate frames\n",
    "def frames_gen(rate, data, framelength, framestride):\n",
    "    frmlen, frmstrd, signallen = int(round(rate*framelength)), int(round(rate*framestride)), len(data)\n",
    "    paddinglen = (signallen - frmlen)%frmstrd\n",
    "    paddedsig = np.concatenate((data, np.zeros(paddinglen)), axis = 0)\n",
    "    paddedsiglen = len(paddedsig)\n",
    "    nframes = int(np.floor((paddedsiglen - frmlen)/frmstrd) + 1)\n",
    "    indices = np.tile(np.arange(0, frmlen), (nframes, 1)) + np.tile((np.arange(0, nframes*frmstrd, frmstrd)), (frmlen, 1)).T\n",
    "    frames = paddedsig[indices]\n",
    "    return frames, frmlen"
   ]
  },
  {
   "cell_type": "code",
   "execution_count": 30,
   "metadata": {},
   "outputs": [],
   "source": [
    "#apply hamming window to each frame\n",
    "def hamming_window(frames, frmlen):\n",
    "    frames *= np.hamming(frmlen)\n",
    "    return frames"
   ]
  },
  {
   "cell_type": "code",
   "execution_count": 31,
   "metadata": {},
   "outputs": [],
   "source": [
    "#convert each windowed frame into a power spectrum\n",
    "def periodogram_gen(frames, nfft):\n",
    "    frame_fft = np.absolute(np.fft.rfft(frames, n = nfft, axis = 1))\n",
    "    frame_periodogram = np.square(frame_fft)/nfft\n",
    "    return frame_periodogram"
   ]
  },
  {
   "cell_type": "code",
   "execution_count": 32,
   "metadata": {},
   "outputs": [],
   "source": [
    "#helper functions\n",
    "def freq_to_mel(freq):\n",
    "    return 2595*np.log10(1+freq/700)\n",
    "def mel_to_freq(mel):\n",
    "    return 700*(np.power(10, mel/2595) - 1)"
   ]
  },
  {
   "cell_type": "code",
   "execution_count": 33,
   "metadata": {},
   "outputs": [],
   "source": [
    "# making mel-scale filterbank\n",
    "def filter_bank_gen(rate, num_fbanks, nfft):\n",
    "    #for x filter banks, we need x+2 mel points\n",
    "    low_mel_lim = 0\n",
    "    up_mel_lim = freq_to_mel(rate/2)\n",
    "    mel_range = np.linspace(0, up_mel_lim, num_fbanks + 2)\n",
    "    freq_range = mel_to_freq(mel_range)\n",
    "    bins = np.floor((nfft + 1) * freq_range/rate)\n",
    "    fbank = np.zeros((num_fbanks, int(np.floor(nfft/2 + 1))))\n",
    "    for m in range(1, num_fbanks + 1):\n",
    "        lower = int(bins[m - 1]) # lower\n",
    "        peak = int(bins[m]) # peak\n",
    "        upper = int(bins[m + 1]) # upper\n",
    "        for k in range(lower, peak):\n",
    "            fbank[m - 1, k] = (k - bins[m - 1])/(bins[m] - bins[m - 1])\n",
    "        for k in range(peak, upper):\n",
    "            fbank[m - 1, k] = (bins[m + 1] - k)/(bins[m + 1] - bins[m])\n",
    "    return fbank"
   ]
  },
  {
   "cell_type": "code",
   "execution_count": 34,
   "metadata": {},
   "outputs": [],
   "source": [
    "# filtered frames\n",
    "def filtered_frame_gen(frame_periodogram, fbank):\n",
    "    #multiply each frame with all filterbanks and add up for coefficients.\n",
    "    filter_banks = np.dot(frame_periodogram, fbank.T)\n",
    "    #for numerical stability\n",
    "    filter_banks = np.where(filter_banks == 0, np.finfo(float).eps, filter_banks) #if condition is true, return eps, else return original val\n",
    "    filter_banks = 20*np.log10(filter_banks)\n",
    "    return filter_banks"
   ]
  },
  {
   "cell_type": "code",
   "execution_count": 35,
   "metadata": {},
   "outputs": [],
   "source": [
    "#make mfcc coefficients\n",
    "def mfcc_gen(filter_banks, n_cep_coeff):\n",
    "    mfcc = dct(filter_banks, type = 2, axis = 1, norm = 'ortho')[:, 1:(n_cep_coeff + 1)]\n",
    "    return mfcc  "
   ]
  },
  {
   "cell_type": "code",
   "execution_count": 39,
   "metadata": {},
   "outputs": [],
   "source": [
    "def csv_data_gen(framelength, framestride, nfft, num_fbanks, n_cep_coeff):\n",
    "    for nclass in range(1,10):\n",
    "        for naudio in range(1, 68):\n",
    "            rate, data, filename = audio_import(nclass, naudio)\n",
    "            frames, frmlen = frames_gen(rate, data, framelength, framestride)\n",
    "            frames = hamming_window(frames, frmlen)\n",
    "            frame_periodogram = periodogram_gen(frames, nfft)\n",
    "            fbank = filter_bank_gen(rate, num_fbanks, nfft)\n",
    "            filter_banks = filtered_frame_gen(frame_periodogram, fbank)\n",
    "            mfcc = mfcc_gen(filter_banks, n_cep_coeff)\n",
    "            df = pd.DataFrame(mfcc)\n",
    "            df.to_csv(filename, index = False)     "
   ]
  },
  {
   "cell_type": "code",
   "execution_count": null,
   "metadata": {},
   "outputs": [],
   "source": [
    "def ctpn(n_cep_coeff, mfcc, t, n):\n",
    "    if((t+n) > n_cep_coeff-1):\n",
    "        return mfcc[:,n_cep_coeff-1]\n",
    "    elif(0 <= (t+n) <= n_cep_coeff-1):\n",
    "        return mfcc[:, t+n]\n",
    "\n",
    "def ctmn(n_cep_coeff, mfcc, t, n):\n",
    "    if((t-n) < 0):\n",
    "        return mfcc[:,0]\n",
    "    elif(0 <= (t-n) <= n_cep_coeff-1):\n",
    "        return mfcc[:, t-n]  \n",
    "    \n",
    "def deltacoeff(mfcc, t, N):\n",
    "    dt = 0\n",
    "    for n in range(1,N):\n",
    "        dt+= n*(ctpn(n_cep_coeff, mfcc, t, n) - ctmn(n_cep_coeff, mfcc, t, n))/2*np.square(n)\n",
    "    return dt\n",
    "\n",
    "def deltacoeff_gen(mfcc, n_cep_coeff, N):\n",
    "    deltacoef = np.zeros(mfcc.shape)\n",
    "    for t in range(0, n_cep_coeff):\n",
    "        dt = deltacoeff(t, N)\n",
    "        deltacoef[:, t] = dt\n",
    "    return deltacoef\n",
    "\n",
    "# def deltadeltacoeff_gen(deltacoef, n_cep_coeff):\n",
    "#     deltadeltacoef = np.zeros(deltacoef.shape)\n",
    "#     for t in range(0, n_cep_coeff):\n",
    "#         ddt = deltacoeff(t)\n",
    "#         deltadeltacoef[:, t] = ddt\n",
    "#     return deltacoef\n",
    "  "
   ]
  }
 ],
 "metadata": {
  "kernelspec": {
   "display_name": "Python 3",
   "language": "python",
   "name": "python3"
  },
  "language_info": {
   "codemirror_mode": {
    "name": "ipython",
    "version": 3
   },
   "file_extension": ".py",
   "mimetype": "text/x-python",
   "name": "python",
   "nbconvert_exporter": "python",
   "pygments_lexer": "ipython3",
   "version": "3.6.6"
  }
 },
 "nbformat": 4,
 "nbformat_minor": 2
}
